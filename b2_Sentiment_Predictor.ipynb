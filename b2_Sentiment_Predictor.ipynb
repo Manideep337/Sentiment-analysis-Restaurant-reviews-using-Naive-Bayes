{
 "nbformat": 4,
 "nbformat_minor": 0,
 "metadata": {
  "colab": {
   "provenance": [],
   "collapsed_sections": []
  },
  "kernelspec": {
   "name": "python3",
   "display_name": "Python 3"
  },
  "language_info": {
   "name": "python"
  }
 },
 "cells": [
  {
   "cell_type": "markdown",
   "metadata": {
    "id": "mxW7yuHWHx1g",
    "pycharm": {
     "name": "#%% md\n"
    }
   },
   "source": [
    "###Importing libraries"
   ]
  },
  {
   "cell_type": "code",
   "metadata": {
    "id": "75gBF0VQLkwq",
    "executionInfo": {
     "status": "ok",
     "timestamp": 1667802561062,
     "user_tz": -330,
     "elapsed": 674,
     "user": {
      "displayName": "Amogh Mishra",
      "userId": "13674307897988017678"
     }
    },
    "pycharm": {
     "name": "#%%\n"
    }
   },
   "source": [
    "import numpy as np\n",
    "import pandas as pd"
   ],
   "execution_count": 1,
   "outputs": []
  },
  {
   "cell_type": "markdown",
   "metadata": {
    "id": "wvaGTuj8H7x7",
    "pycharm": {
     "name": "#%% md\n"
    }
   },
   "source": [
    "###Importing dataset (from google drive)"
   ]
  },
  {
   "cell_type": "code",
   "metadata": {
    "id": "BKmESZPFxl2r",
    "colab": {
     "base_uri": "https://localhost:8080/"
    },
    "executionInfo": {
     "status": "ok",
     "timestamp": 1667802584028,
     "user_tz": -330,
     "elapsed": 20681,
     "user": {
      "displayName": "Amogh Mishra",
      "userId": "13674307897988017678"
     }
    },
    "outputId": "798db51f-01d5-4fa6-82f0-04c3b72bc97e",
    "pycharm": {
     "name": "#%%\n"
    }
   },
   "source": [
    "# from google.colab import drive\n",
    "# drive.mount('/content/drive')"
   ],
   "execution_count": 2,
   "outputs": []
  },
  {
   "cell_type": "code",
   "metadata": {
    "id": "y_R4RGLWLnGz",
    "colab": {
     "base_uri": "https://localhost:8080/",
     "height": 206
    },
    "executionInfo": {
     "status": "ok",
     "timestamp": 1667802589980,
     "user_tz": -330,
     "elapsed": 417,
     "user": {
      "displayName": "Amogh Mishra",
      "userId": "13674307897988017678"
     }
    },
    "outputId": "b4ce64e9-8123-485a-b01c-b485bac8d716",
    "pycharm": {
     "name": "#%%\n"
    }
   },
   "source": [
    "dataset = pd.read_csv('a2_RestaurantReviews_FreshDump.tsv', delimiter = '\\t', quoting = 3)\n",
    "dataset.head()"
   ],
   "execution_count": 3,
   "outputs": [
    {
     "data": {
      "text/plain": "                                              Review\n0                        Spend your money elsewhere.\n1  Their regular toasted bread was equally satisf...\n2  The Buffet at Bellagio was far from what I ant...\n3                   And the drinks are WEAK, people!\n4                         -My order was not correct.",
      "text/html": "<div>\n<style scoped>\n    .dataframe tbody tr th:only-of-type {\n        vertical-align: middle;\n    }\n\n    .dataframe tbody tr th {\n        vertical-align: top;\n    }\n\n    .dataframe thead th {\n        text-align: right;\n    }\n</style>\n<table border=\"1\" class=\"dataframe\">\n  <thead>\n    <tr style=\"text-align: right;\">\n      <th></th>\n      <th>Review</th>\n    </tr>\n  </thead>\n  <tbody>\n    <tr>\n      <th>0</th>\n      <td>Spend your money elsewhere.</td>\n    </tr>\n    <tr>\n      <th>1</th>\n      <td>Their regular toasted bread was equally satisf...</td>\n    </tr>\n    <tr>\n      <th>2</th>\n      <td>The Buffet at Bellagio was far from what I ant...</td>\n    </tr>\n    <tr>\n      <th>3</th>\n      <td>And the drinks are WEAK, people!</td>\n    </tr>\n    <tr>\n      <th>4</th>\n      <td>-My order was not correct.</td>\n    </tr>\n  </tbody>\n</table>\n</div>"
     },
     "execution_count": 3,
     "metadata": {},
     "output_type": "execute_result"
    }
   ]
  },
  {
   "cell_type": "markdown",
   "metadata": {
    "id": "uoeOTsSaIeVz",
    "pycharm": {
     "name": "#%% md\n"
    }
   },
   "source": [
    "###Data cleaning"
   ]
  },
  {
   "cell_type": "code",
   "metadata": {
    "id": "oWj2_42IL5r9",
    "colab": {
     "base_uri": "https://localhost:8080/"
    },
    "executionInfo": {
     "status": "ok",
     "timestamp": 1667802596708,
     "user_tz": -330,
     "elapsed": 1515,
     "user": {
      "displayName": "Amogh Mishra",
      "userId": "13674307897988017678"
     }
    },
    "outputId": "90be210f-dc79-474d-8618-a3d77375e91d",
    "pycharm": {
     "name": "#%%\n"
    }
   },
   "source": [
    "import re\n",
    "import nltk\n",
    "\n",
    "nltk.download('stopwords')\n",
    "\n",
    "from nltk.corpus import stopwords\n",
    "from nltk.stem.porter import PorterStemmer\n",
    "ps = PorterStemmer()\n",
    "\n",
    "all_stopwords = stopwords.words('english')\n",
    "all_stopwords.remove('not')"
   ],
   "execution_count": 4,
   "outputs": [
    {
     "name": "stderr",
     "output_type": "stream",
     "text": [
      "[nltk_data] Downloading package stopwords to\n",
      "[nltk_data]     /Users/manideepguntuku/nltk_data...\n",
      "[nltk_data]   Package stopwords is already up-to-date!\n"
     ]
    }
   ]
  },
  {
   "cell_type": "code",
   "metadata": {
    "id": "Qm9M5Rl5L8SO",
    "executionInfo": {
     "status": "ok",
     "timestamp": 1667802600283,
     "user_tz": -330,
     "elapsed": 538,
     "user": {
      "displayName": "Amogh Mishra",
      "userId": "13674307897988017678"
     }
    },
    "pycharm": {
     "name": "#%%\n"
    }
   },
   "source": [
    "corpus=[]\n",
    "\n",
    "for i in range(0, 100):\n",
    "  review = re.sub('[^a-zA-Z]', ' ', dataset['Review'][i])\n",
    "  review = review.lower()\n",
    "  review = review.split()\n",
    "  review = [ps.stem(word) for word in review if not word in set(all_stopwords)]\n",
    "  review = ' '.join(review)\n",
    "  corpus.append(review)"
   ],
   "execution_count": 5,
   "outputs": []
  },
  {
   "cell_type": "markdown",
   "metadata": {
    "id": "ckl4L08VIuSu",
    "pycharm": {
     "name": "#%% md\n"
    }
   },
   "source": [
    "###Data transformation"
   ]
  },
  {
   "cell_type": "code",
   "metadata": {
    "id": "oLSZj9tyNkvh",
    "executionInfo": {
     "status": "ok",
     "timestamp": 1667802607685,
     "user_tz": -330,
     "elapsed": 437,
     "user": {
      "displayName": "Amogh Mishra",
      "userId": "13674307897988017678"
     }
    },
    "pycharm": {
     "name": "#%%\n"
    }
   },
   "source": [
    "# Loading Bag of Words dictionary\n",
    "from sklearn.feature_extraction.text import CountVectorizer\n",
    "import pickle\n",
    "cvFile='c1_BoW_Sentiment_Model.pkl'\n",
    "# cv = CountVectorizer(decode_error=\"replace\", vocabulary=pickle.load(open('./drive/MyDrive/Colab Notebooks/2 Sentiment Analysis (Basic)/3.1 BoW_Sentiment Model.pkl', \"rb\")))\n",
    "cv = pickle.load(open(cvFile, \"rb\"))\n"
   ],
   "execution_count": 6,
   "outputs": []
  },
  {
   "cell_type": "code",
   "metadata": {
    "id": "GtND0ALQJiZS",
    "colab": {
     "base_uri": "https://localhost:8080/"
    },
    "executionInfo": {
     "status": "ok",
     "timestamp": 1667802610900,
     "user_tz": -330,
     "elapsed": 689,
     "user": {
      "displayName": "Amogh Mishra",
      "userId": "13674307897988017678"
     }
    },
    "outputId": "52885428-19a7-4642-bded-b4667c091c9b",
    "pycharm": {
     "name": "#%%\n"
    }
   },
   "source": [
    "#transforming fresh reviews using the imported bag of words dictionary\n",
    "X_fresh = cv.transform(corpus).toarray()\n",
    "X_fresh.shape"
   ],
   "execution_count": 7,
   "outputs": [
    {
     "data": {
      "text/plain": "(100, 1420)"
     },
     "execution_count": 7,
     "metadata": {},
     "output_type": "execute_result"
    }
   ]
  },
  {
   "cell_type": "markdown",
   "metadata": {
    "id": "IUTUUa2WLwQF",
    "pycharm": {
     "name": "#%% md\n"
    }
   },
   "source": [
    "###Predictions (via sentiment classifier)"
   ]
  },
  {
   "cell_type": "code",
   "metadata": {
    "id": "HIiFYJBGNky6",
    "executionInfo": {
     "status": "ok",
     "timestamp": 1667802616697,
     "user_tz": -330,
     "elapsed": 444,
     "user": {
      "displayName": "Amogh Mishra",
      "userId": "13674307897988017678"
     }
    },
    "pycharm": {
     "name": "#%%\n"
    }
   },
   "source": [
    "#calling the classifier prepared previously\n",
    "import joblib\n",
    "classifier = joblib.load('c2_Classifier_Sentiment_Model')"
   ],
   "execution_count": 8,
   "outputs": []
  },
  {
   "cell_type": "code",
   "metadata": {
    "id": "xBuXLj9fOiLr",
    "colab": {
     "base_uri": "https://localhost:8080/"
    },
    "executionInfo": {
     "status": "ok",
     "timestamp": 1667802622205,
     "user_tz": -330,
     "elapsed": 374,
     "user": {
      "displayName": "Amogh Mishra",
      "userId": "13674307897988017678"
     }
    },
    "outputId": "f2c9e9da-55d1-481d-c4b6-c172eb9bf3d9",
    "pycharm": {
     "name": "#%%\n"
    }
   },
   "source": [
    "#Using the classifier for predicting the y for fresh reviews\n",
    "y_pred = classifier.predict(X_fresh)\n",
    "print(y_pred)"
   ],
   "execution_count": 9,
   "outputs": [
    {
     "name": "stdout",
     "output_type": "stream",
     "text": [
      "[0 1 1 0 0 1 0 0 0 1 1 0 0 1 0 1 0 0 0 1 0 0 1 0 0 0 0 0 0 0 0 0 0 0 0 0 0\n",
      " 0 1 0 0 0 0 0 1 0 1 0 0 1 0 0 1 0 0 0 0 0 0 0 0 1 0 0 0 0 0 0 1 0 0 1 1 0\n",
      " 0 1 0 0 0 0 1 0 0 1 0 1 0 0 0 0 0 0 0 1 0 0 0 0 0 0]\n"
     ]
    }
   ]
  },
  {
   "cell_type": "code",
   "metadata": {
    "id": "ZNYiLBT_Pmtg",
    "colab": {
     "base_uri": "https://localhost:8080/",
     "height": 206
    },
    "executionInfo": {
     "status": "ok",
     "timestamp": 1667802632567,
     "user_tz": -330,
     "elapsed": 402,
     "user": {
      "displayName": "Amogh Mishra",
      "userId": "13674307897988017678"
     }
    },
    "outputId": "15f6b717-0d1c-4f0f-c412-fa88592466fb",
    "pycharm": {
     "name": "#%%\n"
    }
   },
   "source": [
    "dataset['predicted_label'] = y_pred.tolist()\n",
    "dataset.head()"
   ],
   "execution_count": 10,
   "outputs": [
    {
     "data": {
      "text/plain": "                                              Review  predicted_label\n0                        Spend your money elsewhere.                0\n1  Their regular toasted bread was equally satisf...                1\n2  The Buffet at Bellagio was far from what I ant...                1\n3                   And the drinks are WEAK, people!                0\n4                         -My order was not correct.                0",
      "text/html": "<div>\n<style scoped>\n    .dataframe tbody tr th:only-of-type {\n        vertical-align: middle;\n    }\n\n    .dataframe tbody tr th {\n        vertical-align: top;\n    }\n\n    .dataframe thead th {\n        text-align: right;\n    }\n</style>\n<table border=\"1\" class=\"dataframe\">\n  <thead>\n    <tr style=\"text-align: right;\">\n      <th></th>\n      <th>Review</th>\n      <th>predicted_label</th>\n    </tr>\n  </thead>\n  <tbody>\n    <tr>\n      <th>0</th>\n      <td>Spend your money elsewhere.</td>\n      <td>0</td>\n    </tr>\n    <tr>\n      <th>1</th>\n      <td>Their regular toasted bread was equally satisf...</td>\n      <td>1</td>\n    </tr>\n    <tr>\n      <th>2</th>\n      <td>The Buffet at Bellagio was far from what I ant...</td>\n      <td>1</td>\n    </tr>\n    <tr>\n      <th>3</th>\n      <td>And the drinks are WEAK, people!</td>\n      <td>0</td>\n    </tr>\n    <tr>\n      <th>4</th>\n      <td>-My order was not correct.</td>\n      <td>0</td>\n    </tr>\n  </tbody>\n</table>\n</div>"
     },
     "execution_count": 10,
     "metadata": {},
     "output_type": "execute_result"
    }
   ]
  },
  {
   "cell_type": "code",
   "metadata": {
    "id": "mk32hmDzPuoD",
    "executionInfo": {
     "status": "ok",
     "timestamp": 1667802644902,
     "user_tz": -330,
     "elapsed": 6,
     "user": {
      "displayName": "Amogh Mishra",
      "userId": "13674307897988017678"
     }
    },
    "pycharm": {
     "name": "#%%\n"
    }
   },
   "source": [
    "#saving the file to our google drive\n",
    "dataset.to_csv(\"c3_Predicted_Sentiments_Fresh_Dump.tsv\", sep='\\t', encoding='UTF-8', index=False)"
   ],
   "execution_count": 11,
   "outputs": []
  }
 ]
}